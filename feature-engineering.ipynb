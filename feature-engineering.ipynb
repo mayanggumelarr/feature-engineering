{
 "cells": [
  {
   "metadata": {},
   "cell_type": "markdown",
   "source": "# Import Library",
   "id": "843bc2a610297c91"
  },
  {
   "cell_type": "code",
   "id": "initial_id",
   "metadata": {
    "collapsed": true,
    "ExecuteTime": {
     "end_time": "2025-09-02T06:08:25.703903Z",
     "start_time": "2025-09-02T06:08:14.345777Z"
    }
   },
   "source": [
    "import numpy as np\n",
    "import pandas as pd\n",
    "from sklearn.feature_selection import SelectKBest, chi2\n",
    "from sklearn.feature_selection import RFE\n",
    "from sklearn.linear_model import LogisticRegression\n",
    "from sklearn.ensemble import RandomForestClassifier\n",
    "from sklearn.model_selection import train_test_split\n",
    "from sklearn.datasets import load_wine"
   ],
   "outputs": [],
   "execution_count": 1
  },
  {
   "metadata": {},
   "cell_type": "markdown",
   "source": "# Load Dataset",
   "id": "5d7606bc5ba8d0f6"
  },
  {
   "metadata": {
    "ExecuteTime": {
     "end_time": "2025-09-02T06:09:57.076637Z",
     "start_time": "2025-09-02T06:09:56.983635Z"
    }
   },
   "cell_type": "code",
   "source": [
    "data = load_wine()\n",
    "X, y = data.data, data.target"
   ],
   "id": "91eddb212f1564b",
   "outputs": [],
   "execution_count": 2
  },
  {
   "metadata": {
    "ExecuteTime": {
     "end_time": "2025-09-02T06:09:59.202858Z",
     "start_time": "2025-09-02T06:09:59.079453Z"
    }
   },
   "cell_type": "code",
   "source": [
    "''' Ubah X ke DataFrame '''\n",
    "df = pd.DataFrame(X, columns=data.feature_names)\n",
    "df['target'] = y\n",
    "df"
   ],
   "id": "570b6bf21186f74",
   "outputs": [
    {
     "data": {
      "text/plain": [
       "     alcohol  malic_acid   ash  alcalinity_of_ash  magnesium  total_phenols  \\\n",
       "0      14.23        1.71  2.43               15.6      127.0           2.80   \n",
       "1      13.20        1.78  2.14               11.2      100.0           2.65   \n",
       "2      13.16        2.36  2.67               18.6      101.0           2.80   \n",
       "3      14.37        1.95  2.50               16.8      113.0           3.85   \n",
       "4      13.24        2.59  2.87               21.0      118.0           2.80   \n",
       "..       ...         ...   ...                ...        ...            ...   \n",
       "173    13.71        5.65  2.45               20.5       95.0           1.68   \n",
       "174    13.40        3.91  2.48               23.0      102.0           1.80   \n",
       "175    13.27        4.28  2.26               20.0      120.0           1.59   \n",
       "176    13.17        2.59  2.37               20.0      120.0           1.65   \n",
       "177    14.13        4.10  2.74               24.5       96.0           2.05   \n",
       "\n",
       "     flavanoids  nonflavanoid_phenols  proanthocyanins  color_intensity   hue  \\\n",
       "0          3.06                  0.28             2.29             5.64  1.04   \n",
       "1          2.76                  0.26             1.28             4.38  1.05   \n",
       "2          3.24                  0.30             2.81             5.68  1.03   \n",
       "3          3.49                  0.24             2.18             7.80  0.86   \n",
       "4          2.69                  0.39             1.82             4.32  1.04   \n",
       "..          ...                   ...              ...              ...   ...   \n",
       "173        0.61                  0.52             1.06             7.70  0.64   \n",
       "174        0.75                  0.43             1.41             7.30  0.70   \n",
       "175        0.69                  0.43             1.35            10.20  0.59   \n",
       "176        0.68                  0.53             1.46             9.30  0.60   \n",
       "177        0.76                  0.56             1.35             9.20  0.61   \n",
       "\n",
       "     od280/od315_of_diluted_wines  proline  target  \n",
       "0                            3.92   1065.0       0  \n",
       "1                            3.40   1050.0       0  \n",
       "2                            3.17   1185.0       0  \n",
       "3                            3.45   1480.0       0  \n",
       "4                            2.93    735.0       0  \n",
       "..                            ...      ...     ...  \n",
       "173                          1.74    740.0       2  \n",
       "174                          1.56    750.0       2  \n",
       "175                          1.56    835.0       2  \n",
       "176                          1.62    840.0       2  \n",
       "177                          1.60    560.0       2  \n",
       "\n",
       "[178 rows x 14 columns]"
      ],
      "text/html": [
       "<div>\n",
       "<style scoped>\n",
       "    .dataframe tbody tr th:only-of-type {\n",
       "        vertical-align: middle;\n",
       "    }\n",
       "\n",
       "    .dataframe tbody tr th {\n",
       "        vertical-align: top;\n",
       "    }\n",
       "\n",
       "    .dataframe thead th {\n",
       "        text-align: right;\n",
       "    }\n",
       "</style>\n",
       "<table border=\"1\" class=\"dataframe\">\n",
       "  <thead>\n",
       "    <tr style=\"text-align: right;\">\n",
       "      <th></th>\n",
       "      <th>alcohol</th>\n",
       "      <th>malic_acid</th>\n",
       "      <th>ash</th>\n",
       "      <th>alcalinity_of_ash</th>\n",
       "      <th>magnesium</th>\n",
       "      <th>total_phenols</th>\n",
       "      <th>flavanoids</th>\n",
       "      <th>nonflavanoid_phenols</th>\n",
       "      <th>proanthocyanins</th>\n",
       "      <th>color_intensity</th>\n",
       "      <th>hue</th>\n",
       "      <th>od280/od315_of_diluted_wines</th>\n",
       "      <th>proline</th>\n",
       "      <th>target</th>\n",
       "    </tr>\n",
       "  </thead>\n",
       "  <tbody>\n",
       "    <tr>\n",
       "      <th>0</th>\n",
       "      <td>14.23</td>\n",
       "      <td>1.71</td>\n",
       "      <td>2.43</td>\n",
       "      <td>15.6</td>\n",
       "      <td>127.0</td>\n",
       "      <td>2.80</td>\n",
       "      <td>3.06</td>\n",
       "      <td>0.28</td>\n",
       "      <td>2.29</td>\n",
       "      <td>5.64</td>\n",
       "      <td>1.04</td>\n",
       "      <td>3.92</td>\n",
       "      <td>1065.0</td>\n",
       "      <td>0</td>\n",
       "    </tr>\n",
       "    <tr>\n",
       "      <th>1</th>\n",
       "      <td>13.20</td>\n",
       "      <td>1.78</td>\n",
       "      <td>2.14</td>\n",
       "      <td>11.2</td>\n",
       "      <td>100.0</td>\n",
       "      <td>2.65</td>\n",
       "      <td>2.76</td>\n",
       "      <td>0.26</td>\n",
       "      <td>1.28</td>\n",
       "      <td>4.38</td>\n",
       "      <td>1.05</td>\n",
       "      <td>3.40</td>\n",
       "      <td>1050.0</td>\n",
       "      <td>0</td>\n",
       "    </tr>\n",
       "    <tr>\n",
       "      <th>2</th>\n",
       "      <td>13.16</td>\n",
       "      <td>2.36</td>\n",
       "      <td>2.67</td>\n",
       "      <td>18.6</td>\n",
       "      <td>101.0</td>\n",
       "      <td>2.80</td>\n",
       "      <td>3.24</td>\n",
       "      <td>0.30</td>\n",
       "      <td>2.81</td>\n",
       "      <td>5.68</td>\n",
       "      <td>1.03</td>\n",
       "      <td>3.17</td>\n",
       "      <td>1185.0</td>\n",
       "      <td>0</td>\n",
       "    </tr>\n",
       "    <tr>\n",
       "      <th>3</th>\n",
       "      <td>14.37</td>\n",
       "      <td>1.95</td>\n",
       "      <td>2.50</td>\n",
       "      <td>16.8</td>\n",
       "      <td>113.0</td>\n",
       "      <td>3.85</td>\n",
       "      <td>3.49</td>\n",
       "      <td>0.24</td>\n",
       "      <td>2.18</td>\n",
       "      <td>7.80</td>\n",
       "      <td>0.86</td>\n",
       "      <td>3.45</td>\n",
       "      <td>1480.0</td>\n",
       "      <td>0</td>\n",
       "    </tr>\n",
       "    <tr>\n",
       "      <th>4</th>\n",
       "      <td>13.24</td>\n",
       "      <td>2.59</td>\n",
       "      <td>2.87</td>\n",
       "      <td>21.0</td>\n",
       "      <td>118.0</td>\n",
       "      <td>2.80</td>\n",
       "      <td>2.69</td>\n",
       "      <td>0.39</td>\n",
       "      <td>1.82</td>\n",
       "      <td>4.32</td>\n",
       "      <td>1.04</td>\n",
       "      <td>2.93</td>\n",
       "      <td>735.0</td>\n",
       "      <td>0</td>\n",
       "    </tr>\n",
       "    <tr>\n",
       "      <th>...</th>\n",
       "      <td>...</td>\n",
       "      <td>...</td>\n",
       "      <td>...</td>\n",
       "      <td>...</td>\n",
       "      <td>...</td>\n",
       "      <td>...</td>\n",
       "      <td>...</td>\n",
       "      <td>...</td>\n",
       "      <td>...</td>\n",
       "      <td>...</td>\n",
       "      <td>...</td>\n",
       "      <td>...</td>\n",
       "      <td>...</td>\n",
       "      <td>...</td>\n",
       "    </tr>\n",
       "    <tr>\n",
       "      <th>173</th>\n",
       "      <td>13.71</td>\n",
       "      <td>5.65</td>\n",
       "      <td>2.45</td>\n",
       "      <td>20.5</td>\n",
       "      <td>95.0</td>\n",
       "      <td>1.68</td>\n",
       "      <td>0.61</td>\n",
       "      <td>0.52</td>\n",
       "      <td>1.06</td>\n",
       "      <td>7.70</td>\n",
       "      <td>0.64</td>\n",
       "      <td>1.74</td>\n",
       "      <td>740.0</td>\n",
       "      <td>2</td>\n",
       "    </tr>\n",
       "    <tr>\n",
       "      <th>174</th>\n",
       "      <td>13.40</td>\n",
       "      <td>3.91</td>\n",
       "      <td>2.48</td>\n",
       "      <td>23.0</td>\n",
       "      <td>102.0</td>\n",
       "      <td>1.80</td>\n",
       "      <td>0.75</td>\n",
       "      <td>0.43</td>\n",
       "      <td>1.41</td>\n",
       "      <td>7.30</td>\n",
       "      <td>0.70</td>\n",
       "      <td>1.56</td>\n",
       "      <td>750.0</td>\n",
       "      <td>2</td>\n",
       "    </tr>\n",
       "    <tr>\n",
       "      <th>175</th>\n",
       "      <td>13.27</td>\n",
       "      <td>4.28</td>\n",
       "      <td>2.26</td>\n",
       "      <td>20.0</td>\n",
       "      <td>120.0</td>\n",
       "      <td>1.59</td>\n",
       "      <td>0.69</td>\n",
       "      <td>0.43</td>\n",
       "      <td>1.35</td>\n",
       "      <td>10.20</td>\n",
       "      <td>0.59</td>\n",
       "      <td>1.56</td>\n",
       "      <td>835.0</td>\n",
       "      <td>2</td>\n",
       "    </tr>\n",
       "    <tr>\n",
       "      <th>176</th>\n",
       "      <td>13.17</td>\n",
       "      <td>2.59</td>\n",
       "      <td>2.37</td>\n",
       "      <td>20.0</td>\n",
       "      <td>120.0</td>\n",
       "      <td>1.65</td>\n",
       "      <td>0.68</td>\n",
       "      <td>0.53</td>\n",
       "      <td>1.46</td>\n",
       "      <td>9.30</td>\n",
       "      <td>0.60</td>\n",
       "      <td>1.62</td>\n",
       "      <td>840.0</td>\n",
       "      <td>2</td>\n",
       "    </tr>\n",
       "    <tr>\n",
       "      <th>177</th>\n",
       "      <td>14.13</td>\n",
       "      <td>4.10</td>\n",
       "      <td>2.74</td>\n",
       "      <td>24.5</td>\n",
       "      <td>96.0</td>\n",
       "      <td>2.05</td>\n",
       "      <td>0.76</td>\n",
       "      <td>0.56</td>\n",
       "      <td>1.35</td>\n",
       "      <td>9.20</td>\n",
       "      <td>0.61</td>\n",
       "      <td>1.60</td>\n",
       "      <td>560.0</td>\n",
       "      <td>2</td>\n",
       "    </tr>\n",
       "  </tbody>\n",
       "</table>\n",
       "<p>178 rows × 14 columns</p>\n",
       "</div>"
      ]
     },
     "execution_count": 3,
     "metadata": {},
     "output_type": "execute_result"
    }
   ],
   "execution_count": 3
  },
  {
   "metadata": {
    "ExecuteTime": {
     "end_time": "2025-09-02T06:11:57.991088Z",
     "start_time": "2025-09-02T06:11:57.960863Z"
    }
   },
   "cell_type": "code",
   "source": [
    "''' CEK INFO DATA '''\n",
    "df.info()"
   ],
   "id": "bbe2b2dd3131ad17",
   "outputs": [
    {
     "name": "stdout",
     "output_type": "stream",
     "text": [
      "<class 'pandas.core.frame.DataFrame'>\n",
      "RangeIndex: 178 entries, 0 to 177\n",
      "Data columns (total 14 columns):\n",
      " #   Column                        Non-Null Count  Dtype  \n",
      "---  ------                        --------------  -----  \n",
      " 0   alcohol                       178 non-null    float64\n",
      " 1   malic_acid                    178 non-null    float64\n",
      " 2   ash                           178 non-null    float64\n",
      " 3   alcalinity_of_ash             178 non-null    float64\n",
      " 4   magnesium                     178 non-null    float64\n",
      " 5   total_phenols                 178 non-null    float64\n",
      " 6   flavanoids                    178 non-null    float64\n",
      " 7   nonflavanoid_phenols          178 non-null    float64\n",
      " 8   proanthocyanins               178 non-null    float64\n",
      " 9   color_intensity               178 non-null    float64\n",
      " 10  hue                           178 non-null    float64\n",
      " 11  od280/od315_of_diluted_wines  178 non-null    float64\n",
      " 12  proline                       178 non-null    float64\n",
      " 13  target                        178 non-null    int32  \n",
      "dtypes: float64(13), int32(1)\n",
      "memory usage: 18.9 KB\n"
     ]
    }
   ],
   "execution_count": 4
  },
  {
   "metadata": {
    "ExecuteTime": {
     "end_time": "2025-09-02T06:12:00.256629Z",
     "start_time": "2025-09-02T06:12:00.199763Z"
    }
   },
   "cell_type": "code",
   "source": [
    "''' CEK STATISTIK DESKRIPTIF DATA '''\n",
    "df.describe()"
   ],
   "id": "96b2e48005e215b7",
   "outputs": [
    {
     "data": {
      "text/plain": [
       "          alcohol  malic_acid         ash  alcalinity_of_ash   magnesium  \\\n",
       "count  178.000000  178.000000  178.000000         178.000000  178.000000   \n",
       "mean    13.000618    2.336348    2.366517          19.494944   99.741573   \n",
       "std      0.811827    1.117146    0.274344           3.339564   14.282484   \n",
       "min     11.030000    0.740000    1.360000          10.600000   70.000000   \n",
       "25%     12.362500    1.602500    2.210000          17.200000   88.000000   \n",
       "50%     13.050000    1.865000    2.360000          19.500000   98.000000   \n",
       "75%     13.677500    3.082500    2.557500          21.500000  107.000000   \n",
       "max     14.830000    5.800000    3.230000          30.000000  162.000000   \n",
       "\n",
       "       total_phenols  flavanoids  nonflavanoid_phenols  proanthocyanins  \\\n",
       "count     178.000000  178.000000            178.000000       178.000000   \n",
       "mean        2.295112    2.029270              0.361854         1.590899   \n",
       "std         0.625851    0.998859              0.124453         0.572359   \n",
       "min         0.980000    0.340000              0.130000         0.410000   \n",
       "25%         1.742500    1.205000              0.270000         1.250000   \n",
       "50%         2.355000    2.135000              0.340000         1.555000   \n",
       "75%         2.800000    2.875000              0.437500         1.950000   \n",
       "max         3.880000    5.080000              0.660000         3.580000   \n",
       "\n",
       "       color_intensity         hue  od280/od315_of_diluted_wines      proline  \\\n",
       "count       178.000000  178.000000                    178.000000   178.000000   \n",
       "mean          5.058090    0.957449                      2.611685   746.893258   \n",
       "std           2.318286    0.228572                      0.709990   314.907474   \n",
       "min           1.280000    0.480000                      1.270000   278.000000   \n",
       "25%           3.220000    0.782500                      1.937500   500.500000   \n",
       "50%           4.690000    0.965000                      2.780000   673.500000   \n",
       "75%           6.200000    1.120000                      3.170000   985.000000   \n",
       "max          13.000000    1.710000                      4.000000  1680.000000   \n",
       "\n",
       "           target  \n",
       "count  178.000000  \n",
       "mean     0.938202  \n",
       "std      0.775035  \n",
       "min      0.000000  \n",
       "25%      0.000000  \n",
       "50%      1.000000  \n",
       "75%      2.000000  \n",
       "max      2.000000  "
      ],
      "text/html": [
       "<div>\n",
       "<style scoped>\n",
       "    .dataframe tbody tr th:only-of-type {\n",
       "        vertical-align: middle;\n",
       "    }\n",
       "\n",
       "    .dataframe tbody tr th {\n",
       "        vertical-align: top;\n",
       "    }\n",
       "\n",
       "    .dataframe thead th {\n",
       "        text-align: right;\n",
       "    }\n",
       "</style>\n",
       "<table border=\"1\" class=\"dataframe\">\n",
       "  <thead>\n",
       "    <tr style=\"text-align: right;\">\n",
       "      <th></th>\n",
       "      <th>alcohol</th>\n",
       "      <th>malic_acid</th>\n",
       "      <th>ash</th>\n",
       "      <th>alcalinity_of_ash</th>\n",
       "      <th>magnesium</th>\n",
       "      <th>total_phenols</th>\n",
       "      <th>flavanoids</th>\n",
       "      <th>nonflavanoid_phenols</th>\n",
       "      <th>proanthocyanins</th>\n",
       "      <th>color_intensity</th>\n",
       "      <th>hue</th>\n",
       "      <th>od280/od315_of_diluted_wines</th>\n",
       "      <th>proline</th>\n",
       "      <th>target</th>\n",
       "    </tr>\n",
       "  </thead>\n",
       "  <tbody>\n",
       "    <tr>\n",
       "      <th>count</th>\n",
       "      <td>178.000000</td>\n",
       "      <td>178.000000</td>\n",
       "      <td>178.000000</td>\n",
       "      <td>178.000000</td>\n",
       "      <td>178.000000</td>\n",
       "      <td>178.000000</td>\n",
       "      <td>178.000000</td>\n",
       "      <td>178.000000</td>\n",
       "      <td>178.000000</td>\n",
       "      <td>178.000000</td>\n",
       "      <td>178.000000</td>\n",
       "      <td>178.000000</td>\n",
       "      <td>178.000000</td>\n",
       "      <td>178.000000</td>\n",
       "    </tr>\n",
       "    <tr>\n",
       "      <th>mean</th>\n",
       "      <td>13.000618</td>\n",
       "      <td>2.336348</td>\n",
       "      <td>2.366517</td>\n",
       "      <td>19.494944</td>\n",
       "      <td>99.741573</td>\n",
       "      <td>2.295112</td>\n",
       "      <td>2.029270</td>\n",
       "      <td>0.361854</td>\n",
       "      <td>1.590899</td>\n",
       "      <td>5.058090</td>\n",
       "      <td>0.957449</td>\n",
       "      <td>2.611685</td>\n",
       "      <td>746.893258</td>\n",
       "      <td>0.938202</td>\n",
       "    </tr>\n",
       "    <tr>\n",
       "      <th>std</th>\n",
       "      <td>0.811827</td>\n",
       "      <td>1.117146</td>\n",
       "      <td>0.274344</td>\n",
       "      <td>3.339564</td>\n",
       "      <td>14.282484</td>\n",
       "      <td>0.625851</td>\n",
       "      <td>0.998859</td>\n",
       "      <td>0.124453</td>\n",
       "      <td>0.572359</td>\n",
       "      <td>2.318286</td>\n",
       "      <td>0.228572</td>\n",
       "      <td>0.709990</td>\n",
       "      <td>314.907474</td>\n",
       "      <td>0.775035</td>\n",
       "    </tr>\n",
       "    <tr>\n",
       "      <th>min</th>\n",
       "      <td>11.030000</td>\n",
       "      <td>0.740000</td>\n",
       "      <td>1.360000</td>\n",
       "      <td>10.600000</td>\n",
       "      <td>70.000000</td>\n",
       "      <td>0.980000</td>\n",
       "      <td>0.340000</td>\n",
       "      <td>0.130000</td>\n",
       "      <td>0.410000</td>\n",
       "      <td>1.280000</td>\n",
       "      <td>0.480000</td>\n",
       "      <td>1.270000</td>\n",
       "      <td>278.000000</td>\n",
       "      <td>0.000000</td>\n",
       "    </tr>\n",
       "    <tr>\n",
       "      <th>25%</th>\n",
       "      <td>12.362500</td>\n",
       "      <td>1.602500</td>\n",
       "      <td>2.210000</td>\n",
       "      <td>17.200000</td>\n",
       "      <td>88.000000</td>\n",
       "      <td>1.742500</td>\n",
       "      <td>1.205000</td>\n",
       "      <td>0.270000</td>\n",
       "      <td>1.250000</td>\n",
       "      <td>3.220000</td>\n",
       "      <td>0.782500</td>\n",
       "      <td>1.937500</td>\n",
       "      <td>500.500000</td>\n",
       "      <td>0.000000</td>\n",
       "    </tr>\n",
       "    <tr>\n",
       "      <th>50%</th>\n",
       "      <td>13.050000</td>\n",
       "      <td>1.865000</td>\n",
       "      <td>2.360000</td>\n",
       "      <td>19.500000</td>\n",
       "      <td>98.000000</td>\n",
       "      <td>2.355000</td>\n",
       "      <td>2.135000</td>\n",
       "      <td>0.340000</td>\n",
       "      <td>1.555000</td>\n",
       "      <td>4.690000</td>\n",
       "      <td>0.965000</td>\n",
       "      <td>2.780000</td>\n",
       "      <td>673.500000</td>\n",
       "      <td>1.000000</td>\n",
       "    </tr>\n",
       "    <tr>\n",
       "      <th>75%</th>\n",
       "      <td>13.677500</td>\n",
       "      <td>3.082500</td>\n",
       "      <td>2.557500</td>\n",
       "      <td>21.500000</td>\n",
       "      <td>107.000000</td>\n",
       "      <td>2.800000</td>\n",
       "      <td>2.875000</td>\n",
       "      <td>0.437500</td>\n",
       "      <td>1.950000</td>\n",
       "      <td>6.200000</td>\n",
       "      <td>1.120000</td>\n",
       "      <td>3.170000</td>\n",
       "      <td>985.000000</td>\n",
       "      <td>2.000000</td>\n",
       "    </tr>\n",
       "    <tr>\n",
       "      <th>max</th>\n",
       "      <td>14.830000</td>\n",
       "      <td>5.800000</td>\n",
       "      <td>3.230000</td>\n",
       "      <td>30.000000</td>\n",
       "      <td>162.000000</td>\n",
       "      <td>3.880000</td>\n",
       "      <td>5.080000</td>\n",
       "      <td>0.660000</td>\n",
       "      <td>3.580000</td>\n",
       "      <td>13.000000</td>\n",
       "      <td>1.710000</td>\n",
       "      <td>4.000000</td>\n",
       "      <td>1680.000000</td>\n",
       "      <td>2.000000</td>\n",
       "    </tr>\n",
       "  </tbody>\n",
       "</table>\n",
       "</div>"
      ]
     },
     "execution_count": 5,
     "metadata": {},
     "output_type": "execute_result"
    }
   ],
   "execution_count": 5
  },
  {
   "metadata": {
    "ExecuteTime": {
     "end_time": "2025-09-02T06:12:04.860800Z",
     "start_time": "2025-09-02T06:12:04.850906Z"
    }
   },
   "cell_type": "code",
   "source": [
    "''' CEK MISSING VALUE DATA '''\n",
    "df.isnull().sum()"
   ],
   "id": "cdbb30f346b541fd",
   "outputs": [
    {
     "data": {
      "text/plain": [
       "alcohol                         0\n",
       "malic_acid                      0\n",
       "ash                             0\n",
       "alcalinity_of_ash               0\n",
       "magnesium                       0\n",
       "total_phenols                   0\n",
       "flavanoids                      0\n",
       "nonflavanoid_phenols            0\n",
       "proanthocyanins                 0\n",
       "color_intensity                 0\n",
       "hue                             0\n",
       "od280/od315_of_diluted_wines    0\n",
       "proline                         0\n",
       "target                          0\n",
       "dtype: int64"
      ]
     },
     "execution_count": 7,
     "metadata": {},
     "output_type": "execute_result"
    }
   ],
   "execution_count": 7
  },
  {
   "metadata": {
    "ExecuteTime": {
     "end_time": "2025-09-02T06:12:09.612606Z",
     "start_time": "2025-09-02T06:12:06.965896Z"
    }
   },
   "cell_type": "code",
   "source": [
    "''' CEK OUTLIER DENGAN BOXPLOT DATA '''\n",
    "import seaborn as sns\n",
    "import matplotlib.pyplot as plt\n",
    "for feature in df.columns:\n",
    "    plt.figure(figsize = (10, 6))\n",
    "    sns.boxplot(x=df[feature])\n",
    "    plt.title(f\"Box Plot of {feature}\")\n",
    "    plt.show()"
   ],
   "id": "86555dbf396f00c8",
   "outputs": [
    {
     "data": {
      "text/plain": [
       "<Figure size 1000x600 with 1 Axes>"
      ],
      "image/png": "[encoded data removed]"
     },
     "metadata": {},
     "output_type": "display_data"
    },
    {
     "data": {
      "text/plain": [
       "<Figure size 1000x600 with 1 Axes>"
      ],
      "image/png": "[encoded data removed]"
     },
     "metadata": {},
     "output_type": "display_data"
    },
    {
     "data": {
      "text/plain": [
       "<Figure size 1000x600 with 1 Axes>"
      ],
      "image/png": "[encoded data removed]"
     },
     "metadata": {},
     "output_type": "display_data"
    },
    {
     "data": {
      "text/plain": [
       "<Figure size 1000x600 with 1 Axes>"
      ],
      "image/png": "[encoded data removed]"
     },
     "metadata": {},
     "output_type": "display_data"
    },
    {
     "data": {
      "text/plain": [
       "<Figure size 1000x600 with 1 Axes>"
      ],
      "image/png": "[encoded data removed]"
     },
     "metadata": {},
     "output_type": "display_data"
    },
    {
     "data": {
      "text/plain": [
       "<Figure size 1000x600 with 1 Axes>"
      ],
      "image/png": "[encoded data removed]"
     },
     "metadata": {},
     "output_type": "display_data"
    },
    {
     "data": {
      "text/plain": [
       "<Figure size 1000x600 with 1 Axes>"
      ],
      "image/png": "[encoded data removed]"
     },
     "metadata": {},
     "output_type": "display_data"
    },
    {
     "data": {
      "text/plain": [
       "<Figure size 1000x600 with 1 Axes>"
      ],
      "image/png": "[encoded data removed]"
     },
     "metadata": {},
     "output_type": "display_data"
    },
    {
     "data": {
      "text/plain": [
       "<Figure size 1000x600 with 1 Axes>"
      ],
      "image/png": "[encoded data removed]"
     },
     "metadata": {},
     "output_type": "display_data"
    },
    {
     "data": {
      "text/plain": [
       "<Figure size 1000x600 with 1 Axes>"
      ],
      "image/png": "[encoded data removed]"
     },
     "metadata": {},
     "output_type": "display_data"
    },
    {
     "data": {
      "text/plain": [
       "<Figure size 1000x600 with 1 Axes>"
      ],
      "image/png": "[encoded data removed]"
     },
     "metadata": {},
     "output_type": "display_data"
    },
    {
     "data": {
      "text/plain": [
       "<Figure size 1000x600 with 1 Axes>"
      ],
      "image/png": "[encoded data removed]"
     },
     "metadata": {},
     "output_type": "display_data"
    },
    {
     "data": {
      "text/plain": [
       "<Figure size 1000x600 with 1 Axes>"
      ],
      "image/png": "[encoded data removed]"
     },
     "metadata": {},
     "output_type": "display_data"
    },
    {
     "data": {
      "text/plain": [
       "<Figure size 1000x600 with 1 Axes>"
      ],
      "image/png": "[encoded data removed]"
     },
     "metadata": {},
     "output_type": "display_data"
    }
   ],
   "execution_count": 8
  },
  {
   "metadata": {},
   "cell_type": "markdown",
   "source": "***DATA TERHITUNG BERSIH***",
   "id": "966a40e4047771ff"
  },
  {
   "metadata": {},
   "cell_type": "markdown",
   "source": "# Data Splitting",
   "id": "f1a9571ce88466b2"
  },
  {
   "metadata": {
    "ExecuteTime": {
     "end_time": "2025-09-02T07:32:00.522909Z",
     "start_time": "2025-09-02T07:32:00.498909Z"
    }
   },
   "cell_type": "code",
   "source": "X_train, X_test, y_train, y_test = train_test_split(X, y, test_size = 0.2, random_state = 42)",
   "id": "ccf3dc93f026ab0d",
   "outputs": [],
   "execution_count": 39
  },
  {
   "metadata": {},
   "cell_type": "markdown",
   "source": [
    "# Filter Methods\n",
    "\n",
    "digunakan untuk cek fitur mana yang paling relevan untuk target. Dilakukan\n",
    "interkasi satu per satu dari fitur ke target. <br>\n",
    "\n",
    "Salah satu tools yang bisa digunakan adalah **SelectKBest**"
   ],
   "id": "e8c1af52320dd4d5"
  },
  {
   "metadata": {
    "ExecuteTime": {
     "end_time": "2025-09-02T07:32:33.532856Z",
     "start_time": "2025-09-02T07:32:33.470885Z"
    }
   },
   "cell_type": "code",
   "source": [
    "filter_selector = SelectKBest(chi2, k = 2) #PILIH 2 FITUR TERBAIK\n",
    "X_train_filter = filter_selector.fit_transform(X_train, y_train)\n",
    "X_test_filter = filter_selector.transform(X_test)\n",
    "\n",
    "print(\"Fitur yang dipilih dengan Filter Methods: \", filter_selector.get_support(indices=True))"
   ],
   "id": "f569181aedcdb790",
   "outputs": [
    {
     "name": "stdout",
     "output_type": "stream",
     "text": [
      "Fitur yang dipilih dengan Filter Methods:  [ 9 12]\n"
     ]
    }
   ],
   "execution_count": 41
  },
  {
   "metadata": {
    "ExecuteTime": {
     "end_time": "2025-09-02T06:13:05.001634Z",
     "start_time": "2025-09-02T06:13:04.989906Z"
    }
   },
   "cell_type": "code",
   "source": [
    "nama_kolom = df.columns[9]\n",
    "kolom_terpilih = df[nama_kolom]\n",
    "print(kolom_terpilih)\n",
    "\n",
    "nama_kolom2 = df.columns[12]\n",
    "kolom_terpilih2 = df[nama_kolom2]\n",
    "print(kolom_terpilih2)"
   ],
   "id": "f05f57539d993194",
   "outputs": [
    {
     "name": "stdout",
     "output_type": "stream",
     "text": [
      "0       5.64\n",
      "1       4.38\n",
      "2       5.68\n",
      "3       7.80\n",
      "4       4.32\n",
      "       ...  \n",
      "173     7.70\n",
      "174     7.30\n",
      "175    10.20\n",
      "176     9.30\n",
      "177     9.20\n",
      "Name: color_intensity, Length: 178, dtype: float64\n",
      "0      1065.0\n",
      "1      1050.0\n",
      "2      1185.0\n",
      "3      1480.0\n",
      "4       735.0\n",
      "        ...  \n",
      "173     740.0\n",
      "174     750.0\n",
      "175     835.0\n",
      "176     840.0\n",
      "177     560.0\n",
      "Name: proline, Length: 178, dtype: float64\n"
     ]
    }
   ],
   "execution_count": 13
  },
  {
   "metadata": {},
   "cell_type": "markdown",
   "source": "**FITUR TERPILIH ADALAH COLOR INTENSITY DAN PROLINE**",
   "id": "eadb54dfd0ab8ddc"
  },
  {
   "metadata": {},
   "cell_type": "markdown",
   "source": [
    "# Wrapper Methods\n",
    "padukan berbagai subset fitur"
   ],
   "id": "870ee5d934c96fc9"
  },
  {
   "metadata": {
    "ExecuteTime": {
     "end_time": "2025-09-02T07:32:44.166748Z",
     "start_time": "2025-09-02T07:32:43.413224Z"
    }
   },
   "cell_type": "code",
   "source": [
    "model = LogisticRegression(solver='lbfgs', max_iter=5000)\n",
    "rfe_selector = RFE(model, n_features_to_select = 2) #pilih dua fitur khusus\n",
    "X_train_rfe = rfe_selector.fit_transform(X_train, y_train)\n",
    "X_test_rfe = rfe_selector.transform(X_test)\n",
    "\n",
    "print(\"Fitur yang dipilih dengan Wrapper Methods\", rfe_selector.get_support(indices=True))"
   ],
   "id": "c0516e04a9716cb0",
   "outputs": [
    {
     "name": "stdout",
     "output_type": "stream",
     "text": [
      "Fitur yang dipilih dengan Wrapper Methods [0 6]\n"
     ]
    }
   ],
   "execution_count": 42
  },
  {
   "metadata": {},
   "cell_type": "markdown",
   "source": [
    "Solver pada LogisticRegression adalah algoritma yang digunakan untuk menemukan bobot terbaik bagi model, agar prediksi bisa seakurat mungkin. Secara sederhana, solver adalah \"mesin\" di balik layar yang melakukan perhitungan matematis berulang untuk meminimalkan error model.<br>\n",
    "\n",
    "Argumen untuk Parameter Solver\n",
    "Berikut adalah beberapa solver yang paling umum dan argumen yang bisa kamu atur untuknya:<br>\n",
    "\n",
    "1. lbfgs<br>\n",
    "lbfgs adalah solver default yang efisien dan cocok untuk dataset kecil hingga menengah.<br>\n",
    "\n",
    "max_iter: Jumlah iterasi maksimum yang diperbolehkan. Jika model tidak konvergen, kamu bisa mencoba menaikkan nilai ini.\n",
    "\n",
    "tol (tolerance): Batas error di mana model dianggap sudah konvergen.<br>\n",
    "\n",
    "2. liblinear<br>\n",
    "liblinear adalah solver yang sangat cepat, ideal untuk dataset skala besar dan saat kamu hanya membutuhkan regularisasi L1 atau L2.\n",
    "\n",
    "penalty: Regularisasi yang digunakan. Bisa 'l1' atau 'l2'.\n",
    "\n",
    "C: Kekuatan regularisasi. Nilai yang lebih kecil berarti regularisasi lebih kuat.<br>\n",
    "\n",
    "3. newton-cg<br>\n",
    "newton-cg adalah solver yang juga efisien dan bisa menangani semua jenis regularisasi.\n",
    "\n",
    "max_iter: Sama seperti lbfgs, mengatur jumlah iterasi maksimum.\n",
    "\n",
    "tol: Sama seperti lbfgs, mengatur batas toleransi untuk konvergensi.<br>\n",
    "\n",
    "4. sag dan saga<br>\n",
    "Kedua solver ini adalah versi stochastic average gradient yang sangat cocok untuk dataset skala sangat besar. saga adalah versi yang lebih fleksibel dari sag dan mendukung regularisasi L1.\n",
    "\n",
    "max_iter: Mengatur jumlah iterasi maksimum.\n",
    "\n",
    "tol: Mengatur batas toleransi untuk konvergensi."
   ],
   "id": "f61c0e5d73e68ae"
  },
  {
   "metadata": {
    "ExecuteTime": {
     "end_time": "2025-09-02T06:32:05.247965Z",
     "start_time": "2025-09-02T06:32:05.236817Z"
    }
   },
   "cell_type": "code",
   "source": [
    "nama_kolom = df.columns[11]\n",
    "kolom_terpilih = df[nama_kolom]\n",
    "print(kolom_terpilih)"
   ],
   "id": "509218f09cd99e6f",
   "outputs": [
    {
     "name": "stdout",
     "output_type": "stream",
     "text": [
      "0      3.92\n",
      "1      3.40\n",
      "2      3.17\n",
      "3      3.45\n",
      "4      2.93\n",
      "       ... \n",
      "173    1.74\n",
      "174    1.56\n",
      "175    1.56\n",
      "176    1.62\n",
      "177    1.60\n",
      "Name: od280/od315_of_diluted_wines, Length: 178, dtype: float64\n"
     ]
    }
   ],
   "execution_count": 27
  },
  {
   "metadata": {},
   "cell_type": "markdown",
   "source": [
    "### Fitur terpilih:\n",
    "1. Alcohol\n",
    "2. Flavanoids\n",
    "3. od280/od315_of_diluted_wines"
   ],
   "id": "e7222c377878242f"
  },
  {
   "metadata": {},
   "cell_type": "markdown",
   "source": [
    "# Embedded Methods\n",
    "\n",
    "Pilih fitur dan langsung interaksikan dengan variable target. <br>\n",
    "FITUR DIPILIH SAAT SAAT MODEL DIBANGUN dengan MENGATUR BOBOT. Jadi dilihat dari BOBOT-Nya <br>\n",
    "\n",
    "Biasanya menggunakan teknik REGULASI seperti Lasso Regression"
   ],
   "id": "a41d47fac0c27450"
  },
  {
   "metadata": {
    "ExecuteTime": {
     "end_time": "2025-09-02T07:38:20.937597Z",
     "start_time": "2025-09-02T07:38:20.812531Z"
    }
   },
   "cell_type": "code",
   "source": [
    "''' EMBEDDED METHODS '''\n",
    "\n",
    "# Menggunakan Random Forest untuk mendapatkan fitur penting\n",
    "rf_model = RandomForestClassifier(n_estimators = 100, random_state = 42)\n",
    "rf_model.fit(X_train, y_train)\n",
    "\n",
    "# Mendapatkan fitur penting\n",
    "importances = rf_model.feature_importances_\n",
    "indices = np.argsort(importances)[::-1] #MENGATUR URUTAN TINGKAT KEPENTINGAN SEBUAH FITUR\n",
    "\n",
    "# Menentukan ambang batas untuk fitur penting\n",
    "threshold = 0.05 # ambang batas 0.05% -> HANYA FITUR DENGAN BOBOT MINIMAL 5%\n",
    "important_features_indices = [i for i in range(len(importances)) if importances[i] >= threshold]\n",
    "\n",
    "# Memindahkan fitur penting ke variabel baru\n",
    "X_important = X_train[:, important_features_indices] #hanya fitur penting dari data pelatihan\n",
    "X_test_important = X_test[:, important_features_indices] # hanya fitur penting dari data pengujian\n",
    "\n",
    "# Cetak fitur dipilih\n",
    "print(\"Fitur yang dipilih dengan Embedded Methods(di atas ambang batas): \")\n",
    "for i in important_features_indices:\n",
    "    print(f\"{data.feature_names[i]}: {importances[i]}\")\n",
    "\n",
    "# X_important sekarang berisi hanya fitur penting\n",
    "print(\"\\nDimensi data pelatihan dengan fitur penting: \", X_important.shape)\n",
    "print(\"Dimensi data pengujian dengan fitur penting: \", X_test_important.shape)"
   ],
   "id": "fe1de383141a448e",
   "outputs": [
    {
     "name": "stdout",
     "output_type": "stream",
     "text": [
      "Fitur yang dipilih dengan Embedded Methods(di atas ambang batas): \n",
      "alcohol: 0.11239773542143086\n",
      "flavanoids: 0.20229341635663622\n",
      "color_intensity: 0.1712021830864957\n",
      "hue: 0.07089132259413944\n",
      "od280/od315_of_diluted_wines: 0.1115643167260497\n",
      "proline: 0.13904586955351153\n",
      "\n",
      "Dimensi data pelatihan dengan fitur penting:  (142, 6)\n",
      "Dimensi data pengujian dengan fitur penting:  (36, 6)\n"
     ]
    }
   ],
   "execution_count": 52
  },
  {
   "metadata": {},
   "cell_type": "markdown",
   "source": "# EVALUASI PERFORMA",
   "id": "d915044e07e1a894"
  },
  {
   "metadata": {
    "ExecuteTime": {
     "end_time": "2025-09-02T07:38:59.357577Z",
     "start_time": "2025-09-02T07:38:59.349964Z"
    }
   },
   "cell_type": "code",
   "source": [
    "# Evaluasi dengan fitur terpilih dari masing-masing metode\n",
    "def evaluate_model(X_train, X_test, y_train, y_test, model):\n",
    "    model.fit(X_train, y_train)\n",
    "    accuracy = model.score(X_test, y_test)\n",
    "    return accuracy"
   ],
   "id": "163d9e3e4fec0e55",
   "outputs": [],
   "execution_count": 53
  },
  {
   "metadata": {
    "ExecuteTime": {
     "end_time": "2025-09-02T07:39:01.254426Z",
     "start_time": "2025-09-02T07:39:01.137374Z"
    }
   },
   "cell_type": "code",
   "source": [
    "''' MODEL LOGISTIC REGRESSION DG FILTER METHODS '''\n",
    "logistic_model_filter = LogisticRegression(max_iter=200)\n",
    "accuracy_filter = evaluate_model(X_train_filter, X_test_filter, y_train, y_test, logistic_model_filter)\n",
    "\n",
    "''' MODEL LOGISTIC REGRESSION DG WRAPPER METHODS '''\n",
    "logistic_model_rfe = LogisticRegression(max_iter=200)\n",
    "accuracy_rfe = evaluate_model(X_train_rfe, X_test_rfe, y_train, y_test, logistic_model_rfe)\n",
    "\n",
    "''' MODEL LOGISTIC REGRESSION DG EMBEDDED MODELS '''\n",
    "accuracy_rf = evaluate_model(X_important, X_test_important, y_train, y_test, rf_model)\n"
   ],
   "id": "d384088b174e342",
   "outputs": [],
   "execution_count": 54
  },
  {
   "metadata": {
    "ExecuteTime": {
     "end_time": "2025-09-02T07:39:13.846472Z",
     "start_time": "2025-09-02T07:39:13.835732Z"
    }
   },
   "cell_type": "code",
   "source": [
    "print(f\"\\nAkurasi Model dengan Filter Methods: {accuracy_filter:.2f}\")\n",
    "print(f\"Akurasi Model dengan Wrapper Methods: {accuracy_rfe:.2f}\")\n",
    "print(f\"Akurasi Model dengan Embedded Methods: {accuracy_rf:.2f}\")"
   ],
   "id": "cc11bed14462513c",
   "outputs": [
    {
     "name": "stdout",
     "output_type": "stream",
     "text": [
      "\n",
      "Akurasi Model dengan Filter Methods: 0.89\n",
      "Akurasi Model dengan Wrapper Methods: 0.94\n",
      "Akurasi Model dengan Embedded Methods: 1.00\n"
     ]
    }
   ],
   "execution_count": 55
  }
 ],
 "metadata": {
  "kernelspec": {
   "display_name": "Python 3",
   "language": "python",
   "name": "python3"
  },
  "language_info": {
   "codemirror_mode": {
    "name": "ipython",
    "version": 2
   },
   "file_extension": ".py",
   "mimetype": "text/x-python",
   "name": "python",
   "nbconvert_exporter": "python",
   "pygments_lexer": "ipython2",
   "version": "2.7.6"
  }
 },
 "nbformat": 4,
 "nbformat_minor": 5
}
